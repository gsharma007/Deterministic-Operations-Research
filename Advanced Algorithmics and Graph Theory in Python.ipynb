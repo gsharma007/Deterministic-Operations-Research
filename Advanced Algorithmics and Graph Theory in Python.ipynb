{
 "cells": [
  {
   "cell_type": "markdown",
   "metadata": {},
   "source": [
    "***Graph Traversal Techniques:***\n",
    "\n",
    "***1. Breadth First Search - Level Order Traversal***\n",
    "a) Can take any node as a root node in the graph\n",
    "b) Queue DS is used (FIFO)\n",
    "c) We explore each unvisited vertex from each one and include all such in queue\n",
    "\n",
    "***2. Depth First Search***\n",
    "a) Stack DS is used\n",
    "b) Can take any node as root node\n",
    "c) We explore any one of the unvisited vertex from each one\n",
    "d) Back track if there is no adjacent vertex to visit but still unvisited vertex is remaining"
   ]
  },
  {
   "cell_type": "markdown",
   "metadata": {},
   "source": [
    "***Game Description:***\n",
    "\n",
    "A maze where two players, a rat and a python, compete for grabbing pieces of cheese before their opponent. This game is called PyRat.\n",
    "\n",
    "Tuples (x,y) are used to index cells of the maze, where x refers to the horizontal axis and y refers to the vertical axis. \n",
    "\n",
    "***Moving within the maze***:\n",
    "So, the position (0,0) is the bottom left corner, while (width - 1, height - 1) is the top right corner. This means that increasing the value of the x coordinate, we are going to move right, while decreasing the value moves to the left. In the same way, increasing the value of the y coordinate you are going to move up, while decreasing the value moves down.\n",
    "\n",
    "***Assumption***:\n",
    "Note that in practice it is not possible to move left if x is 0, or to move right if x is width - 1. Similarly it is not possible to move down if y is 0, or to move up if y is height - 1. Nevertheless, we will ignore this for the moment. Also, we consider a maze with no wall to begin with."
   ]
  },
  {
   "cell_type": "code",
   "execution_count": 14,
   "metadata": {},
   "outputs": [
    {
     "name": "stdout",
     "output_type": "stream",
     "text": [
      "Our initial position is (4, 8)\n",
      "The position above ours is (4, 9)\n"
     ]
    }
   ],
   "source": [
    "# Function get_position_above\n",
    "# inputs: original_position which is a couple of ints\n",
    "# outputs: coordinates of the position above original_position\n",
    "def get_position_above(original_position):\n",
    "    \"\"\"\n",
    "    Given a position (x,y) returns the position above the original position, defined as (x,y+1)\n",
    "    \"\"\"\n",
    "    (x,y) = original_position\n",
    "    return (x,y+1)\n",
    "\n",
    "# Tests:\n",
    "initial_position = (4,8)\n",
    "print(\"Our initial position is {}\".format(initial_position))\n",
    "position_above = get_position_above(initial_position)\n",
    "print(\"The position above ours is {}\".format(position_above))"
   ]
  },
  {
   "cell_type": "code",
   "execution_count": 15,
   "metadata": {},
   "outputs": [],
   "source": [
    "def get_position_below(original_position):\n",
    "    \"\"\"\n",
    "    Given a position (x,y) returns the position below the original position, defined as (x,y-1)\n",
    "    \"\"\"\n",
    "    ###\n",
    "    (x,y) = original_position\n",
    "    ###\n",
    "    return (x, y-1)\n",
    "def get_position_right(original_position):\n",
    "    \"\"\"\n",
    "    Given a position (x,y) returns the position to the right of the original position, defined as (x+1,y)\n",
    "    \"\"\"\n",
    "    ###\n",
    "    (x,y) = original_position\n",
    "    ###\n",
    "    return (x+1, y)\n",
    "\n",
    "def get_position_left(original_position):\n",
    "    \"\"\"\n",
    "    Given a position (x,y) returns the position to the left of the original position, defined as (x-1,y)\n",
    "    \"\"\"\n",
    "    ###\n",
    "    (x,y) = original_position\n",
    "    ###\n",
    "    return (x-1, y)"
   ]
  },
  {
   "cell_type": "code",
   "execution_count": 16,
   "metadata": {},
   "outputs": [
    {
     "name": "stdout",
     "output_type": "stream",
     "text": [
      "Our initial position is (4, 8)\n",
      "The position directly below ours is (4, 7)\n",
      "The position directly to the right of ours is (5, 8)\n",
      "The position directly to the left of ours is (3, 8)\n"
     ]
    }
   ],
   "source": [
    "print(\"Our initial position is {}\".format(initial_position))\n",
    "\n",
    "position_below = get_position_below(initial_position)\n",
    "print(\"The position directly below ours is {}\".format(position_below))\n",
    "\n",
    "position_right = get_position_right(initial_position)\n",
    "print(\"The position directly to the right of ours is {}\".format(position_right))\n",
    "\n",
    "position_left = get_position_left(initial_position)\n",
    "print(\"The position directly to the left of ours is {}\".format(position_left))"
   ]
  },
  {
   "cell_type": "markdown",
   "metadata": {},
   "source": [
    "***Checking if two cells are adjacent or not?***\n",
    "\n",
    "Function to navigate on a maze is to be able to recognize if two positions (cells) are adjacent, which means that the first one is above, below, left or right of the other one."
   ]
  },
  {
   "cell_type": "code",
   "execution_count": 17,
   "metadata": {},
   "outputs": [],
   "source": [
    "def are_adjacent(position1,position2):\n",
    "    \"\"\"\n",
    "    Given two positions (x1,y1) and (x2,y2) returns True if they are adjacent and False if not\n",
    "    \"\"\"   \n",
    "    ###\n",
    "    adjacent_positions = get_position_above(position1), get_position_right(position1), get_position_below(position1), get_position_left(position1)\n",
    "    if position2 in adjacent_positions:\n",
    "        result = \"True\"\n",
    "    else:\n",
    "        result = \"False\"\n",
    "    \n",
    "    return result\n",
    "    ###\n",
    "    # END YOUR CODE"
   ]
  },
  {
   "cell_type": "code",
   "execution_count": 18,
   "metadata": {},
   "outputs": [
    {
     "name": "stdout",
     "output_type": "stream",
     "text": [
      "Are positions (4, 7) and (5, 8) adjacent? False.\n",
      "Are positions (4, 8) and (5, 8) adjacent? True.\n",
      "Are positions (4, 7) and (4, 8) adjacent? True.\n"
     ]
    }
   ],
   "source": [
    "position2 = (4,7)\n",
    "position3 = (5,8)\n",
    "print(\"Are positions {} and {} adjacent? {}.\".format(position2,position3,are_adjacent(position2,position3)))\n",
    "print(\"Are positions {} and {} adjacent? {}.\".format(initial_position,position3,are_adjacent(initial_position,position3)))\n",
    "print(\"Are positions {} and {} adjacent? {}.\".format(position2,initial_position,are_adjacent(position2,initial_position)))"
   ]
  },
  {
   "cell_type": "code",
   "execution_count": 19,
   "metadata": {},
   "outputs": [],
   "source": [
    "maze_graph = {\n",
    "    (0,0): {(1,0):1},\n",
    "    (1,0): {(0,0):1,(1,1):1},\n",
    "    (1,1): {(1,0):1}\n",
    "}\n",
    "\n",
    "MOVE_RIGHT = \"R\"\n",
    "MOVE_LEFT = \"L\"\n",
    "MOVE_UP = \"U\"\n",
    "MOVE_DOWN = \"D\""
   ]
  },
  {
   "cell_type": "code",
   "execution_count": 20,
   "metadata": {},
   "outputs": [],
   "source": [
    "def possible_move(maze_graph, initial_position, move):\n",
    "    # Example to check if moving up is possible\n",
    "    if move == MOVE_UP:\n",
    "        if get_position_above(initial_position) in maze_graph[initial_position].keys():\n",
    "            return True\n",
    "        else:\n",
    "            return False\n",
    "        \n",
    "    elif move == MOVE_RIGHT:\n",
    "        if get_position_right(initial_position) in maze_graph[initial_position].keys():\n",
    "            return True\n",
    "        else:\n",
    "            return False\n",
    "        \n",
    "    elif move == MOVE_LEFT:\n",
    "        if get_position_left(initial_position) in maze_graph[initial_position].keys():\n",
    "            return True\n",
    "        else:\n",
    "            return False \n",
    "     \n",
    "    elif move == MOVE_DOWN:\n",
    "        if get_position_below(initial_position) in maze_graph[initial_position].keys():\n",
    "            return True\n",
    "        else:\n",
    "            return False    \n",
    "\n",
    "    else:\n",
    "        raise ValueError(\"Invalid or unimplemented move\")"
   ]
  },
  {
   "cell_type": "code",
   "execution_count": 21,
   "metadata": {},
   "outputs": [
    {
     "name": "stdout",
     "output_type": "stream",
     "text": [
      "Testing move up, first is True and second is False\n",
      "Testing move left, first is True and second is False\n",
      "Testing move right, first is True and second is False\n",
      "Testing move down, first is True and second is False\n"
     ]
    }
   ],
   "source": [
    "result1 = possible_move(maze_graph,(1,0),MOVE_UP)\n",
    "result2 = possible_move(maze_graph,(0,0),MOVE_UP)\n",
    "print(\"Testing move up, first is {} and second is {}\".format(result1,result2))\n",
    "\n",
    "result1 = possible_move(maze_graph,(1,0),MOVE_LEFT)\n",
    "result2 = possible_move(maze_graph,(0,0),MOVE_LEFT)\n",
    "print(\"Testing move left, first is {} and second is {}\".format(result1,result2))\n",
    "\n",
    "result1 = possible_move(maze_graph,(0,0),MOVE_RIGHT)\n",
    "result2 = possible_move(maze_graph,(1,0),MOVE_RIGHT)\n",
    "print(\"Testing move right, first is {} and second is {}\".format(result1,result2))\n",
    "\n",
    "result1 = possible_move(maze_graph,(1,1),MOVE_DOWN)\n",
    "result2 = possible_move(maze_graph,(0,0),MOVE_DOWN)\n",
    "print(\"Testing move down, first is {} and second is {}\".format(result1,result2))"
   ]
  },
  {
   "cell_type": "markdown",
   "metadata": {},
   "source": [
    "1.PyRat is made of three functions in python, preprocessing, turn and postprocessing\n",
    "\n",
    "2.The function turn is what we will concentrate on for now. Each time the game wants to know the decision move of your AI, the function turn will be called. \n",
    "\n",
    "3.Parameters:\n",
    "\n",
    "* the map of the maze (mazeMap), which follows the same structure as in the previous example,\n",
    "* the width (mazeWidth) and the height (mazeHeight)of the maze, which are integers,\n",
    "* your player location (playerLocation) and the location of the opponent (opponentLocation) which are couples of integers,\n",
    "* your score (playerScore) and that of the opponent (opponentScore) which are integers, initially 0,\n",
    "* the locations of the pieces of cheese in the maze (piecesOfCheese) which we ignore for now,\n",
    "* the number of milliseconds you have to take your decision (timeAllowed) which is an integer."
   ]
  },
  {
   "cell_type": "code",
   "execution_count": 22,
   "metadata": {},
   "outputs": [
    {
     "ename": "ModuleNotFoundError",
     "evalue": "No module named 'pyrat'",
     "output_type": "error",
     "traceback": [
      "\u001b[0;31m---------------------------------------------------------------------------\u001b[0m",
      "\u001b[0;31mModuleNotFoundError\u001b[0m                       Traceback (most recent call last)",
      "\u001b[0;32m<ipython-input-22-286a4e37be2b>\u001b[0m in \u001b[0;36m<module>\u001b[0;34m\u001b[0m\n\u001b[0;32m----> 1\u001b[0;31m \u001b[0;32mimport\u001b[0m \u001b[0mpyrat\u001b[0m\u001b[0;34m\u001b[0m\u001b[0;34m\u001b[0m\u001b[0m\n\u001b[0m\u001b[1;32m      2\u001b[0m \u001b[0mpyrat\u001b[0m\u001b[0;34m.\u001b[0m\u001b[0mstart_display\u001b[0m\u001b[0;34m(\u001b[0m\u001b[0;34m)\u001b[0m\u001b[0;34m\u001b[0m\u001b[0;34m\u001b[0m\u001b[0m\n",
      "\u001b[0;31mModuleNotFoundError\u001b[0m: No module named 'pyrat'"
     ]
    }
   ],
   "source": [
    "import pyrat\n",
    "pyrat.start_display()"
   ]
  },
  {
   "cell_type": "code",
   "execution_count": null,
   "metadata": {},
   "outputs": [],
   "source": []
  }
 ],
 "metadata": {
  "kernelspec": {
   "display_name": "Python 3",
   "language": "python",
   "name": "python3"
  },
  "language_info": {
   "codemirror_mode": {
    "name": "ipython",
    "version": 3
   },
   "file_extension": ".py",
   "mimetype": "text/x-python",
   "name": "python",
   "nbconvert_exporter": "python",
   "pygments_lexer": "ipython3",
   "version": "3.7.2"
  }
 },
 "nbformat": 4,
 "nbformat_minor": 4
}
